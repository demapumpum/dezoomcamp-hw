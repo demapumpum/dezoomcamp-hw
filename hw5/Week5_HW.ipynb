{
 "cells": [
  {
   "cell_type": "code",
   "execution_count": 2,
   "id": "440f2834",
   "metadata": {},
   "outputs": [],
   "source": [
    "import pyspark\n",
    "from pyspark.sql import SparkSession"
   ]
  },
  {
   "cell_type": "code",
   "execution_count": 4,
   "id": "7a3fb369",
   "metadata": {},
   "outputs": [],
   "source": [
    "spark = SparkSession.builder \\\n",
    "    .master('local[*]') \\\n",
    "    .appName('test') \\\n",
    "    .getOrCreate()"
   ]
  },
  {
   "cell_type": "markdown",
   "id": "bf63b2cf",
   "metadata": {},
   "source": [
    "Question #1"
   ]
  },
  {
   "cell_type": "code",
   "execution_count": 5,
   "id": "e6d30ed4",
   "metadata": {},
   "outputs": [
    {
     "data": {
      "text/plain": [
       "'3.3.2'"
      ]
     },
     "execution_count": 5,
     "metadata": {},
     "output_type": "execute_result"
    }
   ],
   "source": [
    "spark.version"
   ]
  },
  {
   "cell_type": "code",
   "execution_count": 115,
   "id": "ca9cd5ae",
   "metadata": {},
   "outputs": [],
   "source": [
    "# !wget https://d37ci6vzurychx.cloudfront.net/trip-data/fhv_tripdata_2019-10.parquet\n",
    "# !wget https://github.com/DataTalksClub/nyc-tlc-data/releases/download/fhv/fhv_tripdata_2019-10.csv.gz"
   ]
  },
  {
   "cell_type": "code",
   "execution_count": 55,
   "id": "4ca4298c",
   "metadata": {},
   "outputs": [],
   "source": [
    "from pyspark.sql import types\n",
    "\n",
    "schema = types.StructType([\n",
    "    types.StructField('dispatching_base_num', types.StringType(), True), \n",
    "    types.StructField('pickup_datetime', types.TimestampType(), True), \n",
    "    types.StructField('dropOff_datetime', types.TimestampType(), True), \n",
    "    types.StructField('PULocationID', types.IntegerType(), True), \n",
    "    types.StructField('DOLocationID', types.IntegerType(), True), \n",
    "    types.StructField('SR_Flag', types.StringType(), True),\n",
    "    types.StructField('Affiliated_base_number', types.StringType(), True)\n",
    "])\n",
    "\n",
    "csv = spark.read \\\n",
    "    .option(\"header\", \"true\") \\\n",
    "    .schema(schema) \\\n",
    "    .csv('./fhv_tripdata_2019-10.csv.gz')"
   ]
  },
  {
   "cell_type": "code",
   "execution_count": 67,
   "id": "da8ca338",
   "metadata": {},
   "outputs": [
    {
     "name": "stdout",
     "output_type": "stream",
     "text": [
      "+--------------------+-------------------+-------------------+------------+------------+-------+----------------------+\n",
      "|dispatching_base_num|    pickup_datetime|   dropOff_datetime|PULocationID|DOLocationID|SR_Flag|Affiliated_base_number|\n",
      "+--------------------+-------------------+-------------------+------------+------------+-------+----------------------+\n",
      "|              B00009|2019-10-01 00:23:00|2019-10-01 00:35:00|         264|         264|   null|                B00009|\n",
      "|              B00013|2019-10-01 00:11:29|2019-10-01 00:13:22|         264|         264|   null|                B00013|\n",
      "|              B00014|2019-10-01 00:11:43|2019-10-01 00:37:20|         264|         264|   null|                B00014|\n",
      "|              B00014|2019-10-01 00:56:29|2019-10-01 00:57:47|         264|         264|   null|                B00014|\n",
      "|              B00014|2019-10-01 00:23:09|2019-10-01 00:28:27|         264|         264|   null|                B00014|\n",
      "|     B00021         |2019-10-01 00:00:48|2019-10-01 00:07:12|         129|         129|   null|       B00021         |\n",
      "|     B00021         |2019-10-01 00:47:23|2019-10-01 00:53:25|          57|          57|   null|       B00021         |\n",
      "|     B00021         |2019-10-01 00:10:06|2019-10-01 00:19:50|         173|         173|   null|       B00021         |\n",
      "|     B00021         |2019-10-01 00:51:37|2019-10-01 01:06:14|         226|         226|   null|       B00021         |\n",
      "|     B00021         |2019-10-01 00:28:23|2019-10-01 00:34:33|          56|          56|   null|       B00021         |\n",
      "|     B00021         |2019-10-01 00:31:17|2019-10-01 00:51:52|          82|          82|   null|       B00021         |\n",
      "|              B00037|2019-10-01 00:07:41|2019-10-01 00:15:23|         264|          71|   null|                B00037|\n",
      "|              B00037|2019-10-01 00:13:38|2019-10-01 00:25:51|         264|          39|   null|                B00037|\n",
      "|              B00037|2019-10-01 00:42:40|2019-10-01 00:53:47|         264|         188|   null|                B00037|\n",
      "|              B00037|2019-10-01 00:58:46|2019-10-01 01:10:11|         264|          91|   null|                B00037|\n",
      "|              B00037|2019-10-01 00:09:49|2019-10-01 00:14:37|         264|          71|   null|                B00037|\n",
      "|              B00037|2019-10-01 00:22:35|2019-10-01 00:36:53|         264|          35|   null|                B00037|\n",
      "|              B00037|2019-10-01 00:54:27|2019-10-01 01:03:37|         264|          61|   null|                B00037|\n",
      "|              B00037|2019-10-01 00:08:12|2019-10-01 00:28:47|         264|         198|   null|                B00037|\n",
      "|              B00053|2019-10-01 00:05:24|2019-10-01 00:53:03|         264|         264|   null|                  #N/A|\n",
      "+--------------------+-------------------+-------------------+------------+------------+-------+----------------------+\n",
      "only showing top 20 rows\n",
      "\n"
     ]
    },
    {
     "data": {
      "text/plain": [
       "StructType([StructField('dispatching_base_num', StringType(), True), StructField('pickup_datetime', TimestampType(), True), StructField('dropOff_datetime', TimestampType(), True), StructField('PULocationID', IntegerType(), True), StructField('DOLocationID', IntegerType(), True), StructField('SR_Flag', StringType(), True), StructField('Affiliated_base_number', StringType(), True)])"
      ]
     },
     "execution_count": 67,
     "metadata": {},
     "output_type": "execute_result"
    }
   ],
   "source": [
    "csv.show()\n",
    "csv.schema"
   ]
  },
  {
   "cell_type": "code",
   "execution_count": 60,
   "id": "b42456d7",
   "metadata": {},
   "outputs": [],
   "source": [
    "csv \\\n",
    "    .repartition(6) \\\n",
    "    .write.parquet('data/', mode='overwrite')"
   ]
  },
  {
   "cell_type": "markdown",
   "id": "c9f3607b",
   "metadata": {},
   "source": [
    "Question #2"
   ]
  },
  {
   "cell_type": "code",
   "execution_count": 110,
   "id": "bb760961",
   "metadata": {},
   "outputs": [
    {
     "name": "stdout",
     "output_type": "stream",
     "text": [
      "total 39381\n",
      "drwxr-xr-x 1 Ian Demavivas 197609       0 Feb 26 12:24 .\n",
      "drwxr-xr-x 1 Ian Demavivas 197609       0 Feb 26 12:55 ..\n",
      "-rw-r--r-- 1 Ian Demavivas 197609       8 Feb 26 12:24 ._SUCCESS.crc\n",
      "-rw-r--r-- 1 Ian Demavivas 197609   52124 Feb 26 12:24 .part-00000-3961eda0-a086-4173-9822-aeb8e101182c-c000.snappy.parquet.crc\n",
      "-rw-r--r-- 1 Ian Demavivas 197609   52040 Feb 26 12:24 .part-00001-3961eda0-a086-4173-9822-aeb8e101182c-c000.snappy.parquet.crc\n",
      "-rw-r--r-- 1 Ian Demavivas 197609   52084 Feb 26 12:24 .part-00002-3961eda0-a086-4173-9822-aeb8e101182c-c000.snappy.parquet.crc\n",
      "-rw-r--r-- 1 Ian Demavivas 197609   52008 Feb 26 12:24 .part-00003-3961eda0-a086-4173-9822-aeb8e101182c-c000.snappy.parquet.crc\n",
      "-rw-r--r-- 1 Ian Demavivas 197609   52076 Feb 26 12:24 .part-00004-3961eda0-a086-4173-9822-aeb8e101182c-c000.snappy.parquet.crc\n",
      "-rw-r--r-- 1 Ian Demavivas 197609   52100 Feb 26 12:24 .part-00005-3961eda0-a086-4173-9822-aeb8e101182c-c000.snappy.parquet.crc\n",
      "-rw-r--r-- 1 Ian Demavivas 197609       0 Feb 26 12:24 _SUCCESS\n",
      "-rw-r--r-- 1 Ian Demavivas 197609 6670584 Feb 26 12:24 part-00000-3961eda0-a086-4173-9822-aeb8e101182c-c000.snappy.parquet\n",
      "-rw-r--r-- 1 Ian Demavivas 197609 6660088 Feb 26 12:24 part-00001-3961eda0-a086-4173-9822-aeb8e101182c-c000.snappy.parquet\n",
      "-rw-r--r-- 1 Ian Demavivas 197609 6665605 Feb 26 12:24 part-00002-3961eda0-a086-4173-9822-aeb8e101182c-c000.snappy.parquet\n",
      "-rw-r--r-- 1 Ian Demavivas 197609 6655799 Feb 26 12:24 part-00003-3961eda0-a086-4173-9822-aeb8e101182c-c000.snappy.parquet\n",
      "-rw-r--r-- 1 Ian Demavivas 197609 6664361 Feb 26 12:24 part-00004-3961eda0-a086-4173-9822-aeb8e101182c-c000.snappy.parquet\n",
      "-rw-r--r-- 1 Ian Demavivas 197609 6667750 Feb 26 12:24 part-00005-3961eda0-a086-4173-9822-aeb8e101182c-c000.snappy.parquet\n"
     ]
    }
   ],
   "source": [
    "!ls ./data -al"
   ]
  },
  {
   "cell_type": "code",
   "execution_count": 61,
   "id": "93d1b937",
   "metadata": {},
   "outputs": [],
   "source": [
    "df = spark.read.parquet('data/*')"
   ]
  },
  {
   "cell_type": "code",
   "execution_count": 63,
   "id": "8c901760",
   "metadata": {},
   "outputs": [],
   "source": [
    "table = df.createOrReplaceTempView('table')"
   ]
  },
  {
   "cell_type": "markdown",
   "id": "5a4cf943",
   "metadata": {},
   "source": [
    "Question #3"
   ]
  },
  {
   "cell_type": "code",
   "execution_count": 65,
   "id": "944df883",
   "metadata": {},
   "outputs": [
    {
     "name": "stdout",
     "output_type": "stream",
     "text": [
      "+-------------+\n",
      "|no_taxi_trips|\n",
      "+-------------+\n",
      "|        62610|\n",
      "+-------------+\n",
      "\n"
     ]
    }
   ],
   "source": [
    "Q3 = spark.sql(\"\"\"\n",
    "    SELECT COUNT(*) as no_taxi_trips\n",
    "    FROM table\n",
    "    WHERE pickup_datetime >= '2019-10-15 00:00:00' AND pickup_datetime < '2019-10-16 00:00:00'\n",
    "\"\"\").show()"
   ]
  },
  {
   "cell_type": "markdown",
   "id": "9f77b905",
   "metadata": {},
   "source": [
    "Question #4"
   ]
  },
  {
   "cell_type": "code",
   "execution_count": 113,
   "id": "cf06f5be",
   "metadata": {},
   "outputs": [
    {
     "name": "stdout",
     "output_type": "stream",
     "text": [
      "+-------------------+-------------------+-------------+\n",
      "|    pickup_datetime|   dropOff_datetime|trip_duration|\n",
      "+-------------------+-------------------+-------------+\n",
      "|2019-10-11 18:00:00|2091-10-11 18:30:00|     631152.5|\n",
      "+-------------------+-------------------+-------------+\n",
      "\n"
     ]
    }
   ],
   "source": [
    "Q4 = spark.sql(\"\"\"\n",
    "SELECT \n",
    "    pickup_datetime,\n",
    "    dropOff_datetime,\n",
    "    TIMESTAMPDIFF(MINUTE, pickup_datetime, dropOff_datetime)/60 AS trip_duration\n",
    "FROM table\n",
    "ORDER BY trip_duration DESC\n",
    "LIMIT 1\n",
    "\"\"\").show()"
   ]
  },
  {
   "cell_type": "code",
   "execution_count": 116,
   "id": "0d38a935",
   "metadata": {},
   "outputs": [],
   "source": [
    "# !wget https://github.com/DataTalksClub/nyc-tlc-data/releases/download/misc/taxi_zone_lookup.csv"
   ]
  },
  {
   "cell_type": "code",
   "execution_count": 112,
   "id": "45aa7dc8",
   "metadata": {
    "scrolled": true
   },
   "outputs": [
    {
     "name": "stdout",
     "output_type": "stream",
     "text": [
      "+----------+-------------+--------------------+------------+\n",
      "|LocationID|      Borough|                Zone|service_zone|\n",
      "+----------+-------------+--------------------+------------+\n",
      "|         1|          EWR|      Newark Airport|         EWR|\n",
      "|         2|       Queens|         Jamaica Bay|   Boro Zone|\n",
      "|         3|        Bronx|Allerton/Pelham G...|   Boro Zone|\n",
      "|         4|    Manhattan|       Alphabet City| Yellow Zone|\n",
      "|         5|Staten Island|       Arden Heights|   Boro Zone|\n",
      "|         6|Staten Island|Arrochar/Fort Wad...|   Boro Zone|\n",
      "|         7|       Queens|             Astoria|   Boro Zone|\n",
      "|         8|       Queens|        Astoria Park|   Boro Zone|\n",
      "|         9|       Queens|          Auburndale|   Boro Zone|\n",
      "|        10|       Queens|        Baisley Park|   Boro Zone|\n",
      "|        11|     Brooklyn|          Bath Beach|   Boro Zone|\n",
      "|        12|    Manhattan|        Battery Park| Yellow Zone|\n",
      "|        13|    Manhattan|   Battery Park City| Yellow Zone|\n",
      "|        14|     Brooklyn|           Bay Ridge|   Boro Zone|\n",
      "|        15|       Queens|Bay Terrace/Fort ...|   Boro Zone|\n",
      "|        16|       Queens|             Bayside|   Boro Zone|\n",
      "|        17|     Brooklyn|             Bedford|   Boro Zone|\n",
      "|        18|        Bronx|        Bedford Park|   Boro Zone|\n",
      "|        19|       Queens|           Bellerose|   Boro Zone|\n",
      "|        20|        Bronx|             Belmont|   Boro Zone|\n",
      "+----------+-------------+--------------------+------------+\n",
      "only showing top 20 rows\n",
      "\n"
     ]
    }
   ],
   "source": [
    "zone_df = spark.read \\\n",
    "    .option(\"header\", \"true\") \\\n",
    "    .csv('./taxi_zone_lookup.csv')\n",
    "\n",
    "zone_df.show()"
   ]
  },
  {
   "cell_type": "code",
   "execution_count": 71,
   "id": "7c53f057",
   "metadata": {},
   "outputs": [],
   "source": [
    "df_join = df.join(zone_df, df.PULocationID == zone_df.LocationID, how='inner')"
   ]
  },
  {
   "cell_type": "code",
   "execution_count": 78,
   "id": "c2ac52c2",
   "metadata": {},
   "outputs": [
    {
     "name": "stdout",
     "output_type": "stream",
     "text": [
      "+--------------------+-------------------+-------------------+------------+------------+-------+----------------------+----------+---------+--------------------+------------+\n",
      "|dispatching_base_num|    pickup_datetime|   dropOff_datetime|PULocationID|DOLocationID|SR_Flag|Affiliated_base_number|LocationID|  Borough|                Zone|service_zone|\n",
      "+--------------------+-------------------+-------------------+------------+------------+-------+----------------------+----------+---------+--------------------+------------+\n",
      "|              B02111|2019-10-27 05:35:21|2019-10-27 05:38:04|          92|          80|   null|                B02111|        92|   Queens|            Flushing|   Boro Zone|\n",
      "|              B01437|2019-10-08 09:41:27|2019-10-08 09:46:52|         264|         197|   null|                B01437|       264|  Unknown|                  NV|         N/A|\n",
      "|              B02107|2019-10-09 16:53:55|2019-10-09 17:06:05|         264|         167|   null|                B02107|       264|  Unknown|                  NV|         N/A|\n",
      "|              B01653|2019-10-15 06:47:13|2019-10-15 06:59:36|         264|         264|   null|                B01653|       264|  Unknown|                  NV|         N/A|\n",
      "|              B00850|2019-10-13 03:57:31|2019-10-13 04:12:36|         264|         177|   null|                B00850|       264|  Unknown|                  NV|         N/A|\n",
      "|              B00756|2019-10-08 23:21:00|2019-10-08 23:37:00|         264|         264|   null|                B00756|       264|  Unknown|                  NV|         N/A|\n",
      "|              B01145|2019-10-23 20:25:35|2019-10-23 20:38:18|         264|         147|   null|                B02971|       264|  Unknown|                  NV|         N/A|\n",
      "|              B01854|2019-10-09 18:15:00|2019-10-09 18:36:00|         264|         264|   null|                B02883|       264|  Unknown|                  NV|         N/A|\n",
      "|     B01467         |2019-10-19 13:45:55|2019-10-19 13:55:45|         146|           7|   null|       B02925         |       146|   Queens|Long Island City/...|   Boro Zone|\n",
      "|              B01854|2019-10-17 14:15:00|2019-10-17 14:37:00|         264|         264|   null|                B02869|       264|  Unknown|                  NV|         N/A|\n",
      "|              B00310|2019-10-26 16:28:44|2019-10-26 16:45:48|         264|          20|   null|                B00310|       264|  Unknown|                  NV|         N/A|\n",
      "|              B01984|2019-10-23 09:22:00|2019-10-23 09:39:00|         264|          95|   null|                B01984|       264|  Unknown|                  NV|         N/A|\n",
      "|              B03033|2019-10-02 10:23:27|2019-10-02 10:32:26|         264|          36|   null|                B03033|       264|  Unknown|                  NV|         N/A|\n",
      "|              B03016|2019-10-28 12:46:13|2019-10-28 13:38:36|         264|         265|   null|                B03016|       264|  Unknown|                  NV|         N/A|\n",
      "|              B00477|2019-10-31 23:18:39|2019-10-31 23:49:37|         162|         264|   null|                B00477|       162|Manhattan|        Midtown East| Yellow Zone|\n",
      "|              B01710|2019-10-03 09:46:40|2019-10-03 10:19:05|         264|         264|   null|                B01710|       264|  Unknown|                  NV|         N/A|\n",
      "|              B01525|2019-10-15 09:43:01|2019-10-15 10:24:45|         264|          71|   null|                B01525|       264|  Unknown|                  NV|         N/A|\n",
      "|              B01751|2019-10-03 14:44:13|2019-10-03 15:35:17|         264|         264|   null|                B01751|       264|  Unknown|                  NV|         N/A|\n",
      "|              B02429|2019-10-31 06:24:04|2019-10-31 06:50:02|         264|         264|   null|                B02429|       264|  Unknown|                  NV|         N/A|\n",
      "|              B01145|2019-10-20 18:59:57|2019-10-20 19:02:57|         264|         259|   null|                B02877|       264|  Unknown|                  NV|         N/A|\n",
      "+--------------------+-------------------+-------------------+------------+------------+-------+----------------------+----------+---------+--------------------+------------+\n",
      "only showing top 20 rows\n",
      "\n"
     ]
    },
    {
     "data": {
      "text/plain": [
       "StructType([StructField('dispatching_base_num', StringType(), True), StructField('pickup_datetime', TimestampType(), True), StructField('dropOff_datetime', TimestampType(), True), StructField('PULocationID', IntegerType(), True), StructField('DOLocationID', IntegerType(), True), StructField('SR_Flag', StringType(), True), StructField('Affiliated_base_number', StringType(), True), StructField('LocationID', StringType(), True), StructField('Borough', StringType(), True), StructField('Zone', StringType(), True), StructField('service_zone', StringType(), True)])"
      ]
     },
     "execution_count": 78,
     "metadata": {},
     "output_type": "execute_result"
    }
   ],
   "source": [
    "df_join.show()\n",
    "#df_join.schema"
   ]
  },
  {
   "cell_type": "code",
   "execution_count": 73,
   "id": "d0f9aead",
   "metadata": {},
   "outputs": [],
   "source": [
    "joined_table = df_join.createOrReplaceTempView('joined')"
   ]
  },
  {
   "cell_type": "markdown",
   "id": "b872ff43",
   "metadata": {},
   "source": [
    "Question #6"
   ]
  },
  {
   "cell_type": "code",
   "execution_count": 114,
   "id": "feb78e52",
   "metadata": {},
   "outputs": [
    {
     "name": "stdout",
     "output_type": "stream",
     "text": [
      "+-------------+------------+-----------+\n",
      "|no_of_pickups|PULocationID|       Zone|\n",
      "+-------------+------------+-----------+\n",
      "|            1|           2|Jamaica Bay|\n",
      "+-------------+------------+-----------+\n",
      "\n"
     ]
    }
   ],
   "source": [
    "Q6 = spark.sql(\"\"\"\n",
    "SELECT \n",
    "    COUNT(*) as no_of_pickups,\n",
    "    PULocationID,\n",
    "    Zone\n",
    "FROM joined\n",
    "WHERE Borough != 'Unknown'\n",
    "GROUP BY 2, 3\n",
    "ORDER BY 1 ASC\n",
    "LIMIT 1\n",
    "\"\"\").show()"
   ]
  },
  {
   "cell_type": "code",
   "execution_count": null,
   "id": "8835cdaf",
   "metadata": {},
   "outputs": [],
   "source": []
  }
 ],
 "metadata": {
  "kernelspec": {
   "display_name": "Python 3",
   "language": "python",
   "name": "python3"
  },
  "language_info": {
   "codemirror_mode": {
    "name": "ipython",
    "version": 3
   },
   "file_extension": ".py",
   "mimetype": "text/x-python",
   "name": "python",
   "nbconvert_exporter": "python",
   "pygments_lexer": "ipython3",
   "version": "3.9.5"
  }
 },
 "nbformat": 4,
 "nbformat_minor": 5
}
